{
 "cells": [
  {
   "cell_type": "code",
   "execution_count": null,
   "metadata": {},
   "outputs": [],
   "source": [
    "\"\"\"\n",
    "Continuemos con la calculadora manejando posibles errores que se puedan generar\n",
    "Se le pedira crear manejo de exepciones para divisiones entre 0 y a la hora de convertir texto a numero\n",
    "Ademas de un default para cualquier tipo de problemas inesperados\n",
    "\"\"\""
   ]
  },
  {
   "cell_type": "code",
   "execution_count": 3,
   "metadata": {},
   "outputs": [
    {
     "ename": "SyntaxError",
     "evalue": "invalid syntax (1116214503.py, line 17)",
     "output_type": "error",
     "traceback": [
      "\u001b[0;36m  Input \u001b[0;32mIn [3]\u001b[0;36m\u001b[0m\n\u001b[0;31m    except: ZeroDivisionError:\u001b[0m\n\u001b[0m                               ^\u001b[0m\n\u001b[0;31mSyntaxError\u001b[0m\u001b[0;31m:\u001b[0m invalid syntax\n"
     ]
    }
   ],
   "source": [
    "\n",
    "def calculadora(opcion,num1,num2):\n",
    "    try:\n",
    "        opcion=int(opcion)\n",
    "        num1=int(num1)\n",
    "        num2=int(num2)\n",
    "        match opcion:\n",
    "            case 1:\n",
    "                return num1+num2\n",
    "            case 2:\n",
    "                return num1-num2\n",
    "            case 3: \n",
    "                return num1*num2\n",
    "            case 4:\n",
    "                return num1/num2\n",
    "            case default:\n",
    "                return \"No elegio una opcion valida\"\n",
    "    except: ZeroDivisionError: \n",
    "        print(\"No se puede dividir entre 0\")\n",
    "        pass\n",
    "    except: ValueError:\n",
    "        print(\"No se pueden realizar operaciones con texto\")\n",
    "    except:\n",
    "calculadora(\n",
    "    input(\"1.Suma, 2.Resta, 3.Multiplicacion, 4.Division\"),\n",
    "    input(\"Ingrese numero 1\"),\n",
    "    input(\"Ingrese numero 2\")\n",
    "    pass \n",
    ")"
   ]
  },
  {
   "cell_type": "code",
   "execution_count": null,
   "metadata": {},
   "outputs": [],
   "source": []
  }
 ],
 "metadata": {
  "interpreter": {
   "hash": "aee8b7b246df8f9039afb4144a1f6fd8d2ca17a180786b69acc140d282b71a49"
  },
  "kernelspec": {
   "display_name": "Python 3.10.5 64-bit",
   "language": "python",
   "name": "python3"
  },
  "language_info": {
   "codemirror_mode": {
    "name": "ipython",
    "version": 3
   },
   "file_extension": ".py",
   "mimetype": "text/x-python",
   "name": "python",
   "nbconvert_exporter": "python",
   "pygments_lexer": "ipython3",
   "version": "3.10.5"
  },
  "orig_nbformat": 4
 },
 "nbformat": 4,
 "nbformat_minor": 2
}
